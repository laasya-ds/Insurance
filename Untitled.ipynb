{
 "cells": [
  {
   "cell_type": "code",
   "execution_count": null,
   "id": "9b68f0e0-be5d-405c-afb4-9d975f6d4b23",
   "metadata": {},
   "outputs": [],
   "source": [
    "\n"
   ]
  },
  {
   "cell_type": "code",
   "execution_count": null,
   "id": "ce9cc694-97ce-4f1f-920d-66830e207de8",
   "metadata": {},
   "outputs": [],
   "source": [
    "# wallet.py\n",
    "\n",
    "class InsufficientAmount(Exception):\n",
    "    pass\n",
    "\n",
    "\n",
    "class Wallet(object):\n",
    "\n",
    "    def __init__(self, initial_amount=0):\n",
    "        self.balance = initial_amount\n",
    "\n",
    "    def spend_cash(self, amount):\n",
    "        if self.balance < amount:\n",
    "            raise InsufficientAmount('Not enough available to spend {}'.format(amount))\n",
    "        self.balance -= amount\n",
    "\n",
    "    def add_cash(self, amount):\n",
    "        self.balance += amount"
   ]
  },
  {
   "cell_type": "code",
   "execution_count": null,
   "id": "c7f11121-94d2-4d86-a75f-a38dc95136b9",
   "metadata": {},
   "outputs": [],
   "source": [
    "# test_wallet.py\n",
    "\n",
    "@pytest.mark.parametrize(\"earned,spent,expected\", [\n",
    "    (30, 10, 20),\n",
    "    (20, 2, 18),\n",
    "])\n",
    "def test_transactions(earned, spent, expected):\n",
    "    my_wallet = Wallet()\n",
    "    my_wallet.add_cash(earned)\n",
    "    my_wallet.spend_cash(spent)\n",
    "    assert my_wallet.balance == expected"
   ]
  }
 ],
 "metadata": {
  "kernelspec": {
   "display_name": "Python [conda env:venv]",
   "language": "python",
   "name": "conda-env-venv-py"
  },
  "language_info": {
   "codemirror_mode": {
    "name": "ipython",
    "version": 3
   },
   "file_extension": ".py",
   "mimetype": "text/x-python",
   "name": "python",
   "nbconvert_exporter": "python",
   "pygments_lexer": "ipython3",
   "version": "3.10.16"
  }
 },
 "nbformat": 4,
 "nbformat_minor": 5
}
